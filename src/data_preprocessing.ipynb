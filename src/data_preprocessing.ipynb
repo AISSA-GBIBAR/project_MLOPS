{
 "cells": [
  {
   "cell_type": "code",
   "execution_count": 1,
   "id": "79a68fe9",
   "metadata": {},
   "outputs": [
    {
     "data": {
      "application/vnd.microsoft.datawrangler.viewer.v0+json": {
       "columns": [
        {
         "name": "index",
         "rawType": "int64",
         "type": "integer"
        },
        {
         "name": "Content",
         "rawType": "object",
         "type": "string"
        },
        {
         "name": "Label",
         "rawType": "object",
         "type": "unknown"
        },
        {
         "name": "Content_int",
         "rawType": "object",
         "type": "string"
        }
       ],
       "conversionMethod": "pd.DataFrame",
       "ref": "8aa4ff1f-ccb2-4a04-924a-44a48217827d",
       "rows": [
        [
         "0",
         "denial of normal the con be asked to comment on tragedies an emotional retard",
         "1",
         "[146715, 0, 1, 2, 3, 4, 5, 6, 7, 8, 9, 10, 11, 12, 13, 146714]"
        ],
        [
         "1",
         "just by being able to tweet this insufferable bullshit proves trump a nazi you vagina",
         "1",
         "[146715, 14, 15, 16, 17, 7, 18, 19, 20, 21, 22, 23, 24, 25, 26, 27, 146714]"
        ],
        [
         "2",
         "that is retarded you too cute to be single that is life",
         "1",
         "[146715, 28, 29, 30, 26, 31, 32, 7, 5, 33, 28, 29, 34, 146714]"
        ],
        [
         "3",
         "thought of a real badass mongol style declaration of war the attackers capture a citizen of the soon to be",
         "1",
         "[146715, 35, 1, 24, 36, 37, 38, 39, 40, 1, 41, 3, 42, 43, 24, 44, 1, 3, 45, 7, 5, 146714]"
        ],
        [
         "4",
         "afro american basho",
         "1",
         "[146715, 46, 47, 48, 146714]"
        ]
       ],
       "shape": {
        "columns": 3,
        "rows": 5
       }
      },
      "text/html": [
       "<div>\n",
       "<style scoped>\n",
       "    .dataframe tbody tr th:only-of-type {\n",
       "        vertical-align: middle;\n",
       "    }\n",
       "\n",
       "    .dataframe tbody tr th {\n",
       "        vertical-align: top;\n",
       "    }\n",
       "\n",
       "    .dataframe thead th {\n",
       "        text-align: right;\n",
       "    }\n",
       "</style>\n",
       "<table border=\"1\" class=\"dataframe\">\n",
       "  <thead>\n",
       "    <tr style=\"text-align: right;\">\n",
       "      <th></th>\n",
       "      <th>Content</th>\n",
       "      <th>Label</th>\n",
       "      <th>Content_int</th>\n",
       "    </tr>\n",
       "  </thead>\n",
       "  <tbody>\n",
       "    <tr>\n",
       "      <th>0</th>\n",
       "      <td>denial of normal the con be asked to comment o...</td>\n",
       "      <td>1</td>\n",
       "      <td>[146715, 0, 1, 2, 3, 4, 5, 6, 7, 8, 9, 10, 11,...</td>\n",
       "    </tr>\n",
       "    <tr>\n",
       "      <th>1</th>\n",
       "      <td>just by being able to tweet this insufferable ...</td>\n",
       "      <td>1</td>\n",
       "      <td>[146715, 14, 15, 16, 17, 7, 18, 19, 20, 21, 22...</td>\n",
       "    </tr>\n",
       "    <tr>\n",
       "      <th>2</th>\n",
       "      <td>that is retarded you too cute to be single tha...</td>\n",
       "      <td>1</td>\n",
       "      <td>[146715, 28, 29, 30, 26, 31, 32, 7, 5, 33, 28,...</td>\n",
       "    </tr>\n",
       "    <tr>\n",
       "      <th>3</th>\n",
       "      <td>thought of a real badass mongol style declarat...</td>\n",
       "      <td>1</td>\n",
       "      <td>[146715, 35, 1, 24, 36, 37, 38, 39, 40, 1, 41,...</td>\n",
       "    </tr>\n",
       "    <tr>\n",
       "      <th>4</th>\n",
       "      <td>afro american basho</td>\n",
       "      <td>1</td>\n",
       "      <td>[146715, 46, 47, 48, 146714]</td>\n",
       "    </tr>\n",
       "  </tbody>\n",
       "</table>\n",
       "</div>"
      ],
      "text/plain": [
       "                                             Content Label  \\\n",
       "0  denial of normal the con be asked to comment o...     1   \n",
       "1  just by being able to tweet this insufferable ...     1   \n",
       "2  that is retarded you too cute to be single tha...     1   \n",
       "3  thought of a real badass mongol style declarat...     1   \n",
       "4                                afro american basho     1   \n",
       "\n",
       "                                         Content_int  \n",
       "0  [146715, 0, 1, 2, 3, 4, 5, 6, 7, 8, 9, 10, 11,...  \n",
       "1  [146715, 14, 15, 16, 17, 7, 18, 19, 20, 21, 22...  \n",
       "2  [146715, 28, 29, 30, 26, 31, 32, 7, 5, 33, 28,...  \n",
       "3  [146715, 35, 1, 24, 36, 37, 38, 39, 40, 1, 41,...  \n",
       "4                       [146715, 46, 47, 48, 146714]  "
      ]
     },
     "execution_count": 1,
     "metadata": {},
     "output_type": "execute_result"
    }
   ],
   "source": [
    "import pandas as pd\n",
    "\n",
    "\n",
    "chunk_size = 10000\n",
    "chunks = pd.read_csv(\"../data/HateSpeechDataset.csv\", chunksize=chunk_size)\n",
    "\n",
    "data = pd.concat(chunks, ignore_index=True)\n",
    "\n",
    "data.head()\n"
   ]
  },
  {
   "cell_type": "code",
   "execution_count": 2,
   "id": "21c45587",
   "metadata": {},
   "outputs": [
    {
     "name": "stdout",
     "output_type": "stream",
     "text": [
      "Label\n",
      "0    326491\n",
      "Name: count, dtype: int64\n",
      "Label\n",
      "1    74415\n",
      "Name: count, dtype: int64\n"
     ]
    }
   ],
   "source": [
    "dataLabel = data[\"Label\"]\n",
    "\n",
    "#number “0″ for non-hateful \n",
    "print(dataLabel[dataLabel==0].value_counts())\n",
    "\n",
    "#number “1″ for hateful\n",
    "print(dataLabel[dataLabel==1].value_counts())\n"
   ]
  },
  {
   "cell_type": "code",
   "execution_count": 2,
   "id": "b9fc61b1",
   "metadata": {},
   "outputs": [],
   "source": [
    "# Data Preprocessing\n",
    "import re\n",
    "import spacy\n",
    "\n",
    "class DataPreprocessing:\n",
    "    def __init__(self, data):\n",
    "        self.data = data\n",
    "        self.nlp = spacy.load('en_core_web_sm')\n",
    "    \n",
    "    def missing_duplicates(self):\n",
    "        self.data =  self.data.dropna()\n",
    "        self.data = self.data.drop_duplicates()\n",
    "        return self.data\n",
    "    \n",
    "    def clean_text(self, text):\n",
    "        # Convertir des lettres en minuscules\n",
    "        text = text.lower()\n",
    "        \n",
    "        #Supprimer les liens\n",
    "        text = re.sub(r\"http\\S+|www\\S+|https\\S+\", '', text, flags=re.MULTILINE)\n",
    "        \n",
    "        # Supprimer les mentions et les hashtags\n",
    "        text = re.sub(r'\\@\\w+|\\#\\w+', '', text)\n",
    "        \n",
    "        # Supprimer les caractères spéciaux et les chiffres\n",
    "        text = re.sub(r'[^A-Za-z\\s]', '', text)\n",
    "        \n",
    "        # Supprimer les espaces multiples\n",
    "        text = re.sub(r'\\s+', ' ', text).strip()\n",
    "        \n",
    "        return text\n",
    "    \n",
    "    def spacy_preprocess(self, text):\n",
    "        doc = self.nlp(text)\n",
    "        tokens = [\n",
    "            token.lemma_ for token in doc\n",
    "            if not token.is_stop      # Nous supprimons les mots supplémentaires\n",
    "            and not token.is_punct    # Nous supprimons les signes de ponctuation\n",
    "            and not token.is_digit    # Nous supprimons les chiffres\n",
    "        ]\n",
    "        return \" \".join(tokens)\n"
   ]
  },
  {
   "cell_type": "code",
   "execution_count": 3,
   "id": "93da7ffb",
   "metadata": {},
   "outputs": [],
   "source": [
    "dataPreprocessing = DataPreprocessing(data)\n",
    "data = dataPreprocessing.missing_duplicates()\n",
    "data[\"Content\"] = data[\"Content\"].apply(dataPreprocessing.clean_text)\n",
    "data[\"Content\"] = data[\"Content\"].apply(dataPreprocessing.spacy_preprocess)\n"
   ]
  },
  {
   "cell_type": "code",
   "execution_count": 5,
   "id": "86cfcd74",
   "metadata": {},
   "outputs": [],
   "source": [
    "data.to_csv(\"../data/cleaned_hate_speech.csv\", index=False)"
   ]
  }
 ],
 "metadata": {
  "kernelspec": {
   "display_name": "Python 3",
   "language": "python",
   "name": "python3"
  },
  "language_info": {
   "codemirror_mode": {
    "name": "ipython",
    "version": 3
   },
   "file_extension": ".py",
   "mimetype": "text/x-python",
   "name": "python",
   "nbconvert_exporter": "python",
   "pygments_lexer": "ipython3",
   "version": "3.11.7"
  }
 },
 "nbformat": 4,
 "nbformat_minor": 5
}
